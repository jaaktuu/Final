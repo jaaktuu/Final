{
 "cells": [
  {
   "cell_type": "raw",
   "id": "76823f0e",
   "metadata": {},
   "source": [
    "---\n",
    "self-contained: True\n",
    "execute: \n",
    "  enabled: true\n",
    "title: Final Regression\n",
    "author: Tuukka Jaakkola\n",
    "date: '12/15/2023'\n",
    "output: html\n",
    "theme: darkly\n",
    "---"
   ]
  },
  {
   "cell_type": "code",
   "execution_count": 1,
   "id": "ff187037",
   "metadata": {},
   "outputs": [],
   "source": [
    "import pandas as pd\n",
    "import numpy as np\n",
    "\n",
    "from sklearn.pipeline import Pipeline\n",
    "from sklearn.compose import make_column_selector, ColumnTransformer\n",
    "from sklearn.preprocessing import StandardScaler, OneHotEncoder, PolynomialFeatures\n",
    "from sklearn.linear_model import LogisticRegression, LinearRegression, Ridge, Lasso, ElasticNet \n",
    "from sklearn.model_selection import train_test_split, cross_val_score,GridSearchCV, cross_val_predict\n",
    "from sklearn.metrics import mean_squared_error"
   ]
  },
  {
   "cell_type": "code",
   "execution_count": 15,
   "id": "67cbbd87",
   "metadata": {},
   "outputs": [],
   "source": [
    "train = pd.read_csv(r\"C:\\Users\\tuke-\\Desktop\\1_GSB544_Computing_and_Machine_Learning\\Final\\Classification\\data\\CAH-201803-train.csv\")\n",
    "\n",
    "train = train.dropna()\n",
    "\n",
    "test = pd.read_csv(r\"C:\\Users\\tuke-\\Desktop\\1_GSB544_Computing_and_Machine_Learning\\Final\\Classification\\data\\CAH-201803-test.csv\")\n",
    "\n",
    "test = test.dropna()"
   ]
  },
  {
   "cell_type": "code",
   "execution_count": 16,
   "id": "02573c5b",
   "metadata": {},
   "outputs": [
    {
     "name": "stdout",
     "output_type": "stream",
     "text": [
      "     id_num      Q1  Q2 political_affiliation            Q4  \\\n",
      "0         1    Male  53           Independent       Liberal   \n",
      "1         5  Female  66           Independent  Conservative   \n",
      "2         7  Female  58              Democrat       Liberal   \n",
      "3         8    Male  55           Independent      Moderate   \n",
      "4         9    Male  64            Republican  Conservative   \n",
      "..      ...     ...  ..                   ...           ...   \n",
      "164     325    Male  21            Republican  Conservative   \n",
      "165     328  Female  41            Republican       Liberal   \n",
      "166     329    Male  60            Republican  Conservative   \n",
      "167     332  Female  51            Republican  Conservative   \n",
      "168     335    Male  67            Republican      Moderate   \n",
      "\n",
      "                      Q5     Q6   Q7   Q8   Q9                      Q10  \\\n",
      "0         College degree  Black   No   No   No  Yes, somewhat religious   \n",
      "1           Some college  White  Yes   No  Yes      Yes, very religious   \n",
      "2         College degree  White   No   No   No      Yes, very religious   \n",
      "3    High school or less  White  Yes  Yes  Yes  Yes, somewhat religious   \n",
      "4    High school or less  White  Yes  Yes  Yes                       No   \n",
      "..                   ...    ...  ...  ...  ...                      ...   \n",
      "164         Some college  White  Yes   No  Yes                       No   \n",
      "165      Graduate degree  White  Yes  Yes  Yes  Yes, somewhat religious   \n",
      "166         Some college  White  Yes  Yes  Yes  Yes, somewhat religious   \n",
      "167      Graduate degree  White  Yes  Yes  Yes      Yes, very religious   \n",
      "168  High school or less  White  Yes  Yes  Yes  Yes, somewhat religious   \n",
      "\n",
      "            Q11  Q12  Q13                    Q14  Q15  Q16  Q17  Q18  \n",
      "0    Pro-Choice   No   No  Behave no differently    5    2    5   No  \n",
      "1      Pro-life  Yes  Yes           Less Willing    4    5    4   No  \n",
      "2    Pro-Choice   No   No  Behave no differently    5    1    4  Yes  \n",
      "3      Pro-life  Yes  Yes           Less Willing    4    5    4  Yes  \n",
      "4      Pro-life   No   No  Behave no differently    5    1    1  Yes  \n",
      "..          ...  ...  ...                    ...  ...  ...  ...  ...  \n",
      "164  Pro-Choice  Yes   No           Less Willing    5    2    5   No  \n",
      "165  Pro-Choice  Yes   No           Less Willing    5    2    2   No  \n",
      "166    Pro-life   No  Yes  Behave no differently    5    5    4  Yes  \n",
      "167    Pro-life  Yes   No           Less Willing    2    5    1   No  \n",
      "168    Pro-life  Yes   No  Behave no differently    5    5    4  Yes  \n",
      "\n",
      "[169 rows x 19 columns]\n"
     ]
    }
   ],
   "source": [
    "print(train)"
   ]
  },
  {
   "cell_type": "code",
   "execution_count": 18,
   "id": "711e78da",
   "metadata": {},
   "outputs": [
    {
     "name": "stdout",
     "output_type": "stream",
     "text": [
      "Accuracy Scores for Each Fold: [0.61764706 0.5        0.61764706 0.58823529 0.63636364]\n",
      "Mean Accuracy: 0.5919786096256685\n"
     ]
    }
   ],
   "source": []
  },
  {
   "cell_type": "code",
   "execution_count": null,
   "id": "b6fb0b84",
   "metadata": {},
   "outputs": [],
   "source": []
  }
 ],
 "metadata": {
  "kernelspec": {
   "display_name": "Python 3 (ipykernel)",
   "language": "python",
   "name": "python3"
  },
  "language_info": {
   "codemirror_mode": {
    "name": "ipython",
    "version": 3
   },
   "file_extension": ".py",
   "mimetype": "text/x-python",
   "name": "python",
   "nbconvert_exporter": "python",
   "pygments_lexer": "ipython3",
   "version": "3.11.4"
  }
 },
 "nbformat": 4,
 "nbformat_minor": 5
}
